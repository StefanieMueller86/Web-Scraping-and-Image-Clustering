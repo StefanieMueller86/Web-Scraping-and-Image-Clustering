{
 "cells": [
  {
   "cell_type": "markdown",
   "id": "b6bb0979",
   "metadata": {},
   "source": [
    "# Web Scraping and Image Clustering\n",
    "a. Collecting prices of products </br>\n",
    "b. Creating price categories </br>\n",
    "c. Image clustering via transfer learning (InceptionV3) and comparison to price categories </br>\n",
    "d. Conclusion </br>\n",
    "\n",
    "This script is censored to prevent any legal problems.\n",
    "\n",
    "by Stefanie Müller"
   ]
  },
  {
   "cell_type": "code",
   "execution_count": 1,
   "id": "a9021a6f",
   "metadata": {},
   "outputs": [],
   "source": [
    "import pandas as pd\n",
    "import numpy as np\n",
    "import matplotlib.pyplot as plt\n",
    "import seaborn as sns\n",
    "\n",
    "import urllib\n",
    "import urllib.request\n",
    "from bs4 import BeautifulSoup"
   ]
  },
  {
   "cell_type": "markdown",
   "id": "6fcdf26a",
   "metadata": {},
   "source": [
    "## 1. Functions to gather data"
   ]
  },
  {
   "cell_type": "code",
   "execution_count": 2,
   "id": "726694c4",
   "metadata": {},
   "outputs": [],
   "source": [
    "#Creation of BeautifulSoup-Connection\n",
    "def get_soup(url):\n",
    "    html = urllib.request.urlopen(url)\n",
    "    soup = BeautifulSoup(html, 'lxml')\n",
    "    return soup"
   ]
  },
  {
   "cell_type": "code",
   "execution_count": 3,
   "id": "54859723",
   "metadata": {},
   "outputs": [],
   "source": [
    "#Collection of all items\n",
    "def get_all_items_from_soup(soup):\n",
    "    all_items = soup.find_all('li', {'class':'productlisting-productlist-item'})\n",
    "    #print(all_items)\n",
    "    return all_items"
   ]
  },
  {
   "cell_type": "code",
   "execution_count": 4,
   "id": "3ac79495",
   "metadata": {},
   "outputs": [],
   "source": [
    "#Collecting specified detail information\n",
    "def get_item_details_as_df(all_items):\n",
    "\n",
    "    def read_item_text(element, html_tag, class_name, fallback):\n",
    "        search_result = element.find(html_tag, {'class': class_name})\n",
    "        \n",
    "        if search_result is None:\n",
    "            return fallback\n",
    "        else:\n",
    "            return search_result.get_text()      \n",
    "        \n",
    "    list_rows = []\n",
    "\n",
    "    for items in all_items:\n",
    "        item_title = (items.find('span', {\"class\":\"product-tile-name\"}).get_text())\n",
    "        #print(item_title)\n",
    "        \n",
    "        item_salePrice = (items.find('span', {\"class\":\"ish-priceContainer-salePrice-value\"}).get_text())\n",
    "        #print(item_salePrice)      \n",
    "        \n",
    "        item_basicPrice = read_item_text(element=items, \n",
    "                                         html_tag='span', \n",
    "                                         class_name='product_basic_price', \n",
    "                                         fallback='-')\n",
    "        item_basicPrice = item_basicPrice.strip('()')   \n",
    "        #print(item_basicPrice)\n",
    "        \n",
    "        item_detailsURL = (items.find('a', {\"class\":\"js-product-link\"}).get(\"href\"))    \n",
    "        #print(item_detailsURL)\n",
    "        \n",
    "        item_imageURL = (items.find('div', {\"class\":\"product-image-wrapper\"}).find('img').get(\"data-src\"))\n",
    "        #print(item_imageURL)\n",
    "        \n",
    "        list_rows.append([item_title, item_salePrice, item_basicPrice, item_detailsURL, item_imageURL])\n",
    "\n",
    "    df = pd.DataFrame(list_rows)  \n",
    "    #display(df)\n",
    "    return df"
   ]
  },
  {
   "cell_type": "code",
   "execution_count": 5,
   "id": "88d7b2f5",
   "metadata": {},
   "outputs": [],
   "source": [
    "#Appending dfs (of each subpage)\n",
    "def append_dfs(origin_df, new_df):\n",
    "    df = origin_df.append(new_df)\n",
    "    return df"
   ]
  },
  {
   "cell_type": "code",
   "execution_count": 6,
   "id": "6c8a65fd",
   "metadata": {},
   "outputs": [],
   "source": [
    "#Splitting first column which contains the product title, size and types separated by a |\n",
    "def split_first_column(df):\n",
    "    df_name_split = df[0].str.split('|', expand=True)\n",
    "    df1 = pd.concat([df_name_split.iloc[:,0:3], df.iloc[:, 1:]], axis=1)\n",
    "    return df1"
   ]
  },
  {
   "cell_type": "code",
   "execution_count": 7,
   "id": "c25efa9d",
   "metadata": {},
   "outputs": [],
   "source": [
    "#Changing column header\n",
    "def set_columns_header(list, df):\n",
    "    df.columns = (list)\n",
    "    return df"
   ]
  },
  {
   "cell_type": "markdown",
   "id": "3d1b8b64",
   "metadata": {},
   "source": [
    "## 2. Gathering Data"
   ]
  },
  {
   "cell_type": "code",
   "execution_count": 8,
   "id": "7cefde3c",
   "metadata": {
    "scrolled": true
   },
   "outputs": [
    {
     "data": {
      "text/html": [
       "<div>\n",
       "<style scoped>\n",
       "    .dataframe tbody tr th:only-of-type {\n",
       "        vertical-align: middle;\n",
       "    }\n",
       "\n",
       "    .dataframe tbody tr th {\n",
       "        vertical-align: top;\n",
       "    }\n",
       "\n",
       "    .dataframe thead th {\n",
       "        text-align: right;\n",
       "    }\n",
       "</style>\n",
       "<table border=\"1\" class=\"dataframe\">\n",
       "  <thead>\n",
       "    <tr style=\"text-align: right;\">\n",
       "      <th></th>\n",
       "      <th>Price</th>\n",
       "    </tr>\n",
       "  </thead>\n",
       "  <tbody>\n",
       "    <tr>\n",
       "      <th>0</th>\n",
       "      <td>6,95 €</td>\n",
       "    </tr>\n",
       "    <tr>\n",
       "      <th>1</th>\n",
       "      <td>6,95 €</td>\n",
       "    </tr>\n",
       "    <tr>\n",
       "      <th>2</th>\n",
       "      <td>3,49 €</td>\n",
       "    </tr>\n",
       "    <tr>\n",
       "      <th>3</th>\n",
       "      <td>6,95 €</td>\n",
       "    </tr>\n",
       "    <tr>\n",
       "      <th>4</th>\n",
       "      <td>3,79 €</td>\n",
       "    </tr>\n",
       "    <tr>\n",
       "      <th>...</th>\n",
       "      <td>...</td>\n",
       "    </tr>\n",
       "    <tr>\n",
       "      <th>477</th>\n",
       "      <td>3,30 €</td>\n",
       "    </tr>\n",
       "    <tr>\n",
       "      <th>478</th>\n",
       "      <td>6,75 €</td>\n",
       "    </tr>\n",
       "    <tr>\n",
       "      <th>479</th>\n",
       "      <td>2,80 €</td>\n",
       "    </tr>\n",
       "    <tr>\n",
       "      <th>480</th>\n",
       "      <td>5,90 €</td>\n",
       "    </tr>\n",
       "    <tr>\n",
       "      <th>481</th>\n",
       "      <td>3,80 €</td>\n",
       "    </tr>\n",
       "  </tbody>\n",
       "</table>\n",
       "<p>482 rows × 1 columns</p>\n",
       "</div>"
      ],
      "text/plain": [
       "      Price\n",
       "0    6,95 €\n",
       "1    6,95 €\n",
       "2    3,49 €\n",
       "3    6,95 €\n",
       "4    3,79 €\n",
       "..      ...\n",
       "477  3,30 €\n",
       "478  6,75 €\n",
       "479  2,80 €\n",
       "480  5,90 €\n",
       "481  3,80 €\n",
       "\n",
       "[482 rows x 1 columns]"
      ]
     },
     "execution_count": 8,
     "metadata": {},
     "output_type": "execute_result"
    }
   ],
   "source": [
    "df = pd.DataFrame()\n",
    "\n",
    "#Collecting data from each subwebsite which contains the product information\n",
    "for i in range(0,15):\n",
    "    url = f\"-censored-url-{i}\"\n",
    "    #print(url)\n",
    "\n",
    "    soup = get_soup(url)\n",
    "    all_items = get_all_items_from_soup(soup)\n",
    "    if all_items is None or len(all_items) == 0:\n",
    "        break\n",
    "    \n",
    "    df1 = get_item_details_as_df(all_items)\n",
    "\n",
    "    df = append_dfs(df, df1)\n",
    "\n",
    "df_ = split_first_column(df)\n",
    "\n",
    "column_headers = [\"Product Name\", \"Size\", \"Type\", \"Price\", \"Price per m\", \"Product URL\", \"Image URL\"]\n",
    "\n",
    "df_ = set_columns_header(column_headers, df_)\n",
    "df_ = df_.reset_index(drop=True)\n",
    "\n",
    "dfx = pd.DataFrame()\n",
    "dfx[\"Price\"] = df_[\"Price\"]\n",
    "\n",
    "dfx"
   ]
  },
  {
   "cell_type": "markdown",
   "id": "7996d07c",
   "metadata": {},
   "source": [
    "## 3. Checking and preparing the data"
   ]
  },
  {
   "cell_type": "code",
   "execution_count": 9,
   "id": "2cf7a42b",
   "metadata": {},
   "outputs": [
    {
     "data": {
      "text/plain": [
       "Price    0\n",
       "dtype: int64"
      ]
     },
     "execution_count": 9,
     "metadata": {},
     "output_type": "execute_result"
    }
   ],
   "source": [
    "#No missing prices\n",
    "dfx.isna().sum()"
   ]
  },
  {
   "cell_type": "code",
   "execution_count": 10,
   "id": "aeb8eee8",
   "metadata": {
    "scrolled": true
   },
   "outputs": [
    {
     "data": {
      "text/html": [
       "<div>\n",
       "<style scoped>\n",
       "    .dataframe tbody tr th:only-of-type {\n",
       "        vertical-align: middle;\n",
       "    }\n",
       "\n",
       "    .dataframe tbody tr th {\n",
       "        vertical-align: top;\n",
       "    }\n",
       "\n",
       "    .dataframe thead th {\n",
       "        text-align: right;\n",
       "    }\n",
       "</style>\n",
       "<table border=\"1\" class=\"dataframe\">\n",
       "  <thead>\n",
       "    <tr style=\"text-align: right;\">\n",
       "      <th></th>\n",
       "      <th>Price</th>\n",
       "    </tr>\n",
       "  </thead>\n",
       "  <tbody>\n",
       "    <tr>\n",
       "      <th>0</th>\n",
       "      <td>6.95</td>\n",
       "    </tr>\n",
       "    <tr>\n",
       "      <th>1</th>\n",
       "      <td>6.95</td>\n",
       "    </tr>\n",
       "    <tr>\n",
       "      <th>2</th>\n",
       "      <td>3.49</td>\n",
       "    </tr>\n",
       "    <tr>\n",
       "      <th>3</th>\n",
       "      <td>6.95</td>\n",
       "    </tr>\n",
       "    <tr>\n",
       "      <th>4</th>\n",
       "      <td>3.79</td>\n",
       "    </tr>\n",
       "    <tr>\n",
       "      <th>...</th>\n",
       "      <td>...</td>\n",
       "    </tr>\n",
       "    <tr>\n",
       "      <th>477</th>\n",
       "      <td>3.30</td>\n",
       "    </tr>\n",
       "    <tr>\n",
       "      <th>478</th>\n",
       "      <td>6.75</td>\n",
       "    </tr>\n",
       "    <tr>\n",
       "      <th>479</th>\n",
       "      <td>2.80</td>\n",
       "    </tr>\n",
       "    <tr>\n",
       "      <th>480</th>\n",
       "      <td>5.90</td>\n",
       "    </tr>\n",
       "    <tr>\n",
       "      <th>481</th>\n",
       "      <td>3.80</td>\n",
       "    </tr>\n",
       "  </tbody>\n",
       "</table>\n",
       "<p>482 rows × 1 columns</p>\n",
       "</div>"
      ],
      "text/plain": [
       "     Price\n",
       "0     6.95\n",
       "1     6.95\n",
       "2     3.49\n",
       "3     6.95\n",
       "4     3.79\n",
       "..     ...\n",
       "477   3.30\n",
       "478   6.75\n",
       "479   2.80\n",
       "480   5.90\n",
       "481   3.80\n",
       "\n",
       "[482 rows x 1 columns]"
      ]
     },
     "execution_count": 10,
     "metadata": {},
     "output_type": "execute_result"
    }
   ],
   "source": [
    "#The prices needs to be changed to numeric type plus preprocessing to do so\n",
    "df_prep = dfx.copy()\n",
    "df_prep[\"Price\"] = dfx[\"Price\"].str.extract(r'(\\d+,\\d+)')\n",
    "df_prep[\"Price\"] = df_prep[\"Price\"].str.replace(\",\", \".\")\n",
    "df_prep[\"Price\"] = pd.to_numeric(df_prep[\"Price\"])\n",
    "df_prep"
   ]
  },
  {
   "cell_type": "code",
   "execution_count": 11,
   "id": "4d7cffb7",
   "metadata": {},
   "outputs": [
    {
     "name": "stdout",
     "output_type": "stream",
     "text": [
      "Pricerange is from 0.8€ to 54.95€\n"
     ]
    }
   ],
   "source": [
    "#Pricerange matches to information on the website\n",
    "print (f'Pricerange is from {min(df_prep[\"Price\"])}€ to {max(df_prep[\"Price\"])}€')"
   ]
  },
  {
   "cell_type": "code",
   "execution_count": 12,
   "id": "3d68efbb",
   "metadata": {},
   "outputs": [
    {
     "data": {
      "text/html": [
       "<div>\n",
       "<style scoped>\n",
       "    .dataframe tbody tr th:only-of-type {\n",
       "        vertical-align: middle;\n",
       "    }\n",
       "\n",
       "    .dataframe tbody tr th {\n",
       "        vertical-align: top;\n",
       "    }\n",
       "\n",
       "    .dataframe thead th {\n",
       "        text-align: right;\n",
       "    }\n",
       "</style>\n",
       "<table border=\"1\" class=\"dataframe\">\n",
       "  <thead>\n",
       "    <tr style=\"text-align: right;\">\n",
       "      <th></th>\n",
       "      <th>Price</th>\n",
       "      <th>Price Category</th>\n",
       "    </tr>\n",
       "  </thead>\n",
       "  <tbody>\n",
       "    <tr>\n",
       "      <th>0</th>\n",
       "      <td>6.95</td>\n",
       "      <td>1</td>\n",
       "    </tr>\n",
       "    <tr>\n",
       "      <th>1</th>\n",
       "      <td>6.95</td>\n",
       "      <td>1</td>\n",
       "    </tr>\n",
       "    <tr>\n",
       "      <th>2</th>\n",
       "      <td>3.49</td>\n",
       "      <td>0</td>\n",
       "    </tr>\n",
       "    <tr>\n",
       "      <th>3</th>\n",
       "      <td>6.95</td>\n",
       "      <td>1</td>\n",
       "    </tr>\n",
       "    <tr>\n",
       "      <th>4</th>\n",
       "      <td>3.79</td>\n",
       "      <td>0</td>\n",
       "    </tr>\n",
       "    <tr>\n",
       "      <th>...</th>\n",
       "      <td>...</td>\n",
       "      <td>...</td>\n",
       "    </tr>\n",
       "    <tr>\n",
       "      <th>477</th>\n",
       "      <td>3.30</td>\n",
       "      <td>0</td>\n",
       "    </tr>\n",
       "    <tr>\n",
       "      <th>478</th>\n",
       "      <td>6.75</td>\n",
       "      <td>1</td>\n",
       "    </tr>\n",
       "    <tr>\n",
       "      <th>479</th>\n",
       "      <td>2.80</td>\n",
       "      <td>0</td>\n",
       "    </tr>\n",
       "    <tr>\n",
       "      <th>480</th>\n",
       "      <td>5.90</td>\n",
       "      <td>1</td>\n",
       "    </tr>\n",
       "    <tr>\n",
       "      <th>481</th>\n",
       "      <td>3.80</td>\n",
       "      <td>0</td>\n",
       "    </tr>\n",
       "  </tbody>\n",
       "</table>\n",
       "<p>482 rows × 2 columns</p>\n",
       "</div>"
      ],
      "text/plain": [
       "     Price Price Category\n",
       "0     6.95              1\n",
       "1     6.95              1\n",
       "2     3.49              0\n",
       "3     6.95              1\n",
       "4     3.79              0\n",
       "..     ...            ...\n",
       "477   3.30              0\n",
       "478   6.75              1\n",
       "479   2.80              0\n",
       "480   5.90              1\n",
       "481   3.80              0\n",
       "\n",
       "[482 rows x 2 columns]"
      ]
     },
     "execution_count": 12,
     "metadata": {},
     "output_type": "execute_result"
    }
   ],
   "source": [
    "#Creating Price Categories\n",
    "bins = [0.00,5.00,10.00,np.inf]\n",
    "labels = [\"0\", \"1\", \"2\"] #0=low, 1=medium, 2=high\n",
    "\n",
    "df_prep[\"Price Category\"] = pd.cut(df_prep[\"Price\"], bins=bins, labels=labels)\n",
    "df_prep"
   ]
  },
  {
   "cell_type": "code",
   "execution_count": 13,
   "id": "4f31087b",
   "metadata": {},
   "outputs": [
    {
     "data": {
      "image/png": "[encoded data removed]",
      "text/plain": [
       "<Figure size 432x288 with 1 Axes>"
      ]
     },
     "metadata": {
      "needs_background": "light"
     },
     "output_type": "display_data"
    }
   ],
   "source": [
    "#Plotting Price Categories\n",
    "sns.histplot(data=df_prep, x=\"Price Category\")\n",
    "plt.show()"
   ]
  },
  {
   "cell_type": "markdown",
   "id": "18eb4700",
   "metadata": {},
   "source": [
    "## 4. Downloading Images for Clustering"
   ]
  },
  {
   "cell_type": "code",
   "execution_count": 14,
   "id": "32e709c4",
   "metadata": {},
   "outputs": [],
   "source": [
    "#Example URL\n",
    "#df_[\"Image URL\"].iloc[0]"
   ]
  },
  {
   "cell_type": "code",
   "execution_count": 15,
   "id": "94ec8611",
   "metadata": {},
   "outputs": [],
   "source": [
    "#Creating user agent for the connection\n",
    "opener = urllib.request.build_opener()\n",
    "opener.addheaders = [('User-agent', 'Mozilla/5.0')]\n",
    "urllib.request.install_opener(opener)\n",
    "\n",
    "#Saving all images\n",
    "for index, link in df_[\"Image URL\"].iteritems():\n",
    "    #print(index, link)\n",
    "    #urllib.request.urlretrieve(link, f\"images_downloaded/{index}.jpg\") #saving all images"
   ]
  },
  {
   "cell_type": "markdown",
   "id": "41daa368",
   "metadata": {},
   "source": [
    "## 5. K-Means Clustering via transfer learning for feature selection\n",
    "#### The idea is to see the price difference in the clusters because sets having higher prices compared to single products.\n",
    "\n",
    "https://towardsdatascience.com/image-clustering-using-k-means-4a78478d2b83"
   ]
  },
  {
   "cell_type": "code",
   "execution_count": 16,
   "id": "4d4db5be",
   "metadata": {},
   "outputs": [],
   "source": [
    "from tensorflow.keras.applications.inception_v3 import InceptionV3\n",
    "from tensorflow.keras.applications.inception_v3 import preprocess_input\n",
    "from tensorflow.keras.preprocessing import image\n",
    "from tensorflow.keras.preprocessing.image import img_to_array\n",
    "from sklearn.cluster import KMeans\n",
    "from tqdm import tqdm\n",
    "import os\n",
    "import shutil"
   ]
  },
  {
   "cell_type": "code",
   "execution_count": 17,
   "id": "7b7edae1",
   "metadata": {},
   "outputs": [],
   "source": [
    "#Function for using InceptionV3 for feature selection from the images\n",
    "def image_feature(direc):\n",
    "    model = InceptionV3(weights='imagenet', include_top=False)\n",
    "    features = [];\n",
    "    img_name = [];\n",
    "    for i in tqdm(direc):\n",
    "        fname='images_downloaded'+'/'+i\n",
    "        img=image.load_img(fname, target_size=(250,250))\n",
    "        x = img_to_array(img)\n",
    "        x=np.expand_dims(x,axis=0)\n",
    "        x=preprocess_input(x)\n",
    "        feat=model.predict(x)\n",
    "        feat=feat.flatten()\n",
    "        features.append(feat)\n",
    "        img_name.append(i)\n",
    "    return features,img_name"
   ]
  },
  {
   "cell_type": "code",
   "execution_count": 18,
   "id": "a5d238ed",
   "metadata": {},
   "outputs": [
    {
     "name": "stderr",
     "output_type": "stream",
     "text": [
      "100%|████████████████████████████████████████████████████████████████████████████████| 482/482 [00:19<00:00, 24.95it/s]\n"
     ]
    }
   ],
   "source": [
    "#Selecting features from the images\n",
    "img_path=os.listdir('images_downloaded')\n",
    "#print(img_path)\n",
    "img_features,img_name=image_feature(img_path)"
   ]
  },
  {
   "cell_type": "code",
   "execution_count": 19,
   "id": "8b7e0f50",
   "metadata": {},
   "outputs": [
    {
     "data": {
      "text/plain": [
       "KMeans(n_clusters=3, random_state=42)"
      ]
     },
     "execution_count": 19,
     "metadata": {},
     "output_type": "execute_result"
    }
   ],
   "source": [
    "#Creating Clusters\n",
    "k = 3\n",
    "clusters = KMeans(k, random_state = 42)\n",
    "clusters.fit(img_features)"
   ]
  },
  {
   "cell_type": "code",
   "execution_count": 20,
   "id": "e8bef458",
   "metadata": {},
   "outputs": [
    {
     "data": {
      "text/plain": [
       "0    189\n",
       "2    154\n",
       "1    139\n",
       "Name: clusterid, dtype: int64"
      ]
     },
     "execution_count": 20,
     "metadata": {},
     "output_type": "execute_result"
    }
   ],
   "source": [
    "#Cluster Overview\n",
    "image_cluster = pd.DataFrame(img_name,columns=['image'])\n",
    "image_cluster[\"clusterid\"] = clusters.labels_\n",
    "image_cluster[\"clusterid\"].value_counts()"
   ]
  },
  {
   "cell_type": "code",
   "execution_count": 21,
   "id": "fde48385",
   "metadata": {},
   "outputs": [],
   "source": [
    "# Images will be seperated according to clusters they belong to for further investigation\n",
    "\n",
    "#Create cluster\n",
    "for i in range(k):\n",
    "    if os.path.isdir(f'cluster{i}'):\n",
    "        shutil.rmtree(f'cluster{i}')\n",
    "    os.mkdir(f'cluster{i}')   \n",
    "\n",
    "#Copy Images to cluster-folders\n",
    "for i in range(len(image_cluster)):\n",
    "    shutil.copy(os.path.join('images_downloaded', image_cluster['image'][i]), f'cluster{image_cluster[\"clusterid\"][i]}')"
   ]
  },
  {
   "cell_type": "code",
   "execution_count": 22,
   "id": "81a26cbd",
   "metadata": {
    "scrolled": true
   },
   "outputs": [
    {
     "data": {
      "text/html": [
       "<div>\n",
       "<style scoped>\n",
       "    .dataframe tbody tr th:only-of-type {\n",
       "        vertical-align: middle;\n",
       "    }\n",
       "\n",
       "    .dataframe tbody tr th {\n",
       "        vertical-align: top;\n",
       "    }\n",
       "\n",
       "    .dataframe thead th {\n",
       "        text-align: right;\n",
       "    }\n",
       "</style>\n",
       "<table border=\"1\" class=\"dataframe\">\n",
       "  <thead>\n",
       "    <tr style=\"text-align: right;\">\n",
       "      <th></th>\n",
       "      <th>Price Category</th>\n",
       "      <th>Price</th>\n",
       "      <th>Cluster</th>\n",
       "    </tr>\n",
       "  </thead>\n",
       "  <tbody>\n",
       "    <tr>\n",
       "      <th>0</th>\n",
       "      <td>1</td>\n",
       "      <td>6.95</td>\n",
       "      <td>0</td>\n",
       "    </tr>\n",
       "    <tr>\n",
       "      <th>1</th>\n",
       "      <td>1</td>\n",
       "      <td>6.95</td>\n",
       "      <td>1</td>\n",
       "    </tr>\n",
       "    <tr>\n",
       "      <th>2</th>\n",
       "      <td>0</td>\n",
       "      <td>3.49</td>\n",
       "      <td>0</td>\n",
       "    </tr>\n",
       "    <tr>\n",
       "      <th>3</th>\n",
       "      <td>0</td>\n",
       "      <td>3.79</td>\n",
       "      <td>1</td>\n",
       "    </tr>\n",
       "    <tr>\n",
       "      <th>4</th>\n",
       "      <td>0</td>\n",
       "      <td>2.69</td>\n",
       "      <td>2</td>\n",
       "    </tr>\n",
       "    <tr>\n",
       "      <th>...</th>\n",
       "      <td>...</td>\n",
       "      <td>...</td>\n",
       "      <td>...</td>\n",
       "    </tr>\n",
       "    <tr>\n",
       "      <th>477</th>\n",
       "      <td>0</td>\n",
       "      <td>3.30</td>\n",
       "      <td>0</td>\n",
       "    </tr>\n",
       "    <tr>\n",
       "      <th>478</th>\n",
       "      <td>1</td>\n",
       "      <td>6.75</td>\n",
       "      <td>2</td>\n",
       "    </tr>\n",
       "    <tr>\n",
       "      <th>479</th>\n",
       "      <td>0</td>\n",
       "      <td>2.80</td>\n",
       "      <td>1</td>\n",
       "    </tr>\n",
       "    <tr>\n",
       "      <th>480</th>\n",
       "      <td>1</td>\n",
       "      <td>5.90</td>\n",
       "      <td>2</td>\n",
       "    </tr>\n",
       "    <tr>\n",
       "      <th>481</th>\n",
       "      <td>0</td>\n",
       "      <td>3.80</td>\n",
       "      <td>0</td>\n",
       "    </tr>\n",
       "  </tbody>\n",
       "</table>\n",
       "<p>482 rows × 3 columns</p>\n",
       "</div>"
      ],
      "text/plain": [
       "     Price Category  Price  Cluster\n",
       "0                 1   6.95        0\n",
       "1                 1   6.95        1\n",
       "2                 0   3.49        0\n",
       "3                 0   3.79        1\n",
       "4                 0   2.69        2\n",
       "..              ...    ...      ...\n",
       "477               0   3.30        0\n",
       "478               1   6.75        2\n",
       "479               0   2.80        1\n",
       "480               1   5.90        2\n",
       "481               0   3.80        0\n",
       "\n",
       "[482 rows x 3 columns]"
      ]
     },
     "execution_count": 22,
     "metadata": {},
     "output_type": "execute_result"
    }
   ],
   "source": [
    "%%capture --no-display \n",
    "\n",
    "#Clusters and Prices\n",
    "cluster_price = pd.DataFrame()\n",
    "cluster_price = df_prep[[\"Price Category\", \"Price\"]]\n",
    "cluster_price[\"Price Category\"] = pd.to_numeric(cluster_price[\"Price Category\"])\n",
    "\n",
    "cluster_price[\"Cluster\"] = image_cluster[\"clusterid\"]\n",
    "\n",
    "cluster_price"
   ]
  },
  {
   "cell_type": "code",
   "execution_count": 23,
   "id": "05453edc",
   "metadata": {},
   "outputs": [
    {
     "data": {
      "text/html": [
       "<div>\n",
       "<style scoped>\n",
       "    .dataframe tbody tr th:only-of-type {\n",
       "        vertical-align: middle;\n",
       "    }\n",
       "\n",
       "    .dataframe tbody tr th {\n",
       "        vertical-align: top;\n",
       "    }\n",
       "\n",
       "    .dataframe thead th {\n",
       "        text-align: right;\n",
       "    }\n",
       "</style>\n",
       "<table border=\"1\" class=\"dataframe\">\n",
       "  <thead>\n",
       "    <tr style=\"text-align: right;\">\n",
       "      <th></th>\n",
       "      <th>Price Category</th>\n",
       "      <th>Price</th>\n",
       "    </tr>\n",
       "    <tr>\n",
       "      <th>Cluster</th>\n",
       "      <th></th>\n",
       "      <th></th>\n",
       "    </tr>\n",
       "  </thead>\n",
       "  <tbody>\n",
       "    <tr>\n",
       "      <th>0</th>\n",
       "      <td>0.449735</td>\n",
       "      <td>6.652434</td>\n",
       "    </tr>\n",
       "    <tr>\n",
       "      <th>1</th>\n",
       "      <td>0.424460</td>\n",
       "      <td>6.447626</td>\n",
       "    </tr>\n",
       "    <tr>\n",
       "      <th>2</th>\n",
       "      <td>0.422078</td>\n",
       "      <td>6.068182</td>\n",
       "    </tr>\n",
       "  </tbody>\n",
       "</table>\n",
       "</div>"
      ],
      "text/plain": [
       "         Price Category     Price\n",
       "Cluster                          \n",
       "0              0.449735  6.652434\n",
       "1              0.424460  6.447626\n",
       "2              0.422078  6.068182"
      ]
     },
     "execution_count": 23,
     "metadata": {},
     "output_type": "execute_result"
    }
   ],
   "source": [
    "#Price Mean for each Cluster\n",
    "cluster_price.groupby(['Cluster']).mean()"
   ]
  },
  {
   "cell_type": "code",
   "execution_count": 24,
   "id": "c7567a3e",
   "metadata": {},
   "outputs": [
    {
     "data": {
      "text/html": [
       "<div>\n",
       "<style scoped>\n",
       "    .dataframe tbody tr th:only-of-type {\n",
       "        vertical-align: middle;\n",
       "    }\n",
       "\n",
       "    .dataframe tbody tr th {\n",
       "        vertical-align: top;\n",
       "    }\n",
       "\n",
       "    .dataframe thead th {\n",
       "        text-align: right;\n",
       "    }\n",
       "</style>\n",
       "<table border=\"1\" class=\"dataframe\">\n",
       "  <thead>\n",
       "    <tr style=\"text-align: right;\">\n",
       "      <th></th>\n",
       "      <th>Price Category</th>\n",
       "      <th>Price</th>\n",
       "      <th>Cluster</th>\n",
       "    </tr>\n",
       "  </thead>\n",
       "  <tbody>\n",
       "    <tr>\n",
       "      <th>Price Category</th>\n",
       "      <td>1.000000</td>\n",
       "      <td>0.805976</td>\n",
       "      <td>-0.017299</td>\n",
       "    </tr>\n",
       "    <tr>\n",
       "      <th>Price</th>\n",
       "      <td>0.805976</td>\n",
       "      <td>1.000000</td>\n",
       "      <td>-0.041366</td>\n",
       "    </tr>\n",
       "    <tr>\n",
       "      <th>Cluster</th>\n",
       "      <td>-0.017299</td>\n",
       "      <td>-0.041366</td>\n",
       "      <td>1.000000</td>\n",
       "    </tr>\n",
       "  </tbody>\n",
       "</table>\n",
       "</div>"
      ],
      "text/plain": [
       "                Price Category     Price   Cluster\n",
       "Price Category        1.000000  0.805976 -0.017299\n",
       "Price                 0.805976  1.000000 -0.041366\n",
       "Cluster              -0.017299 -0.041366  1.000000"
      ]
     },
     "execution_count": 24,
     "metadata": {},
     "output_type": "execute_result"
    }
   ],
   "source": [
    "#Correlations -> there is none between the clusters and the price\n",
    "cluster_price.corr('pearson')"
   ]
  },
  {
   "cell_type": "markdown",
   "id": "1d2df29f",
   "metadata": {},
   "source": [
    "## 6. Conclusion\n",
    "The clusters gained by the features selected via InceptionV3 are not correlated to the three price categories. No matter if 2 or 3 clusters are chosen, the product sets were not separated from the single products. Even with 10 clusters this separation did not work out correctly.\n",
    "\n",
    "Further inspection of different numbers of clusters showed a special behavior. With lots of clusters the images were primarily sorted by their product type but some of the images were sorted by cold and warm colortypes of the same product. Additionally products were grouped by if the image showed a shimmer or not. The net might not have been trained on this kind of product but on more complex topics which could explain these findings."
   ]
  }
 ],
 "metadata": {
  "kernelspec": {
   "display_name": "Python 3 (ipykernel)",
   "language": "python",
   "name": "python3"
  },
  "language_info": {
   "codemirror_mode": {
    "name": "ipython",
    "version": 3
   },
   "file_extension": ".py",
   "mimetype": "text/x-python",
   "name": "python",
   "nbconvert_exporter": "python",
   "pygments_lexer": "ipython3",
   "version": "3.8.11"
  }
 },
 "nbformat": 4,
 "nbformat_minor": 5
}
